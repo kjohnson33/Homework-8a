{
 "cells": [
  {
   "cell_type": "markdown",
   "metadata": {},
   "source": [
    "# PHYS 20323/60323 Homework Week 8\n",
    "\n",
    "FALL 2022\n"
   ]
  },
  {
   "cell_type": "markdown",
   "metadata": {},
   "source": [
    "### 1) Altitude of a satellite\n",
    "\n",
    "A satellite is to be launched into a circular orbit around the Earth so that it orbits the planet once every T seconds.\n",
    "\n",
    "The altitude h above the Earth’s surface that the satellite must have is:\n",
    "\n",
    "$$h = \\left( \\frac{G M T^2}{4\\pi^2} \\right)^{1/3} - R$$\n",
    "\n",
    "where $G = 6.67 \\times 10^{-11}$ m$^3$ kg$^{-1}$ s$^{-2}$\n",
    "is Newton's gravitational constant, $M = 5.97 \\times 10^{24}$ kg is the mass of the Earth, and $R = 6371$ km is its radius.\n",
    "\n",
    "#### Write a program that asks the user to enter the desired value of T and then calculates and prints out the correct altitude in meters.\n"
   ]
  },
  {
   "cell_type": "code",
   "execution_count": null,
   "metadata": {},
   "outputs": [],
   "source": [
    "# Input Time (T) in seconds (s)\n",
    "\n",
    "import math\n",
    "\n",
    "G = 6.67*10**(-11)\n",
    "M = 5.97*10**(24)\n",
    "R = 6371*1000\n",
    "\n",
    "T = int(input(\"Time in seconds: \"))\n",
    "h = ((G*M*(T**(2)))/(4*(math.pi)**(2)))**(1/3) - R\n",
    "\n",
    "\n",
    "print(h)\n"
   ]
  },
  {
   "cell_type": "markdown",
   "metadata": {},
   "source": [
    "Use your program to calculate the altitudes of satellites that orbit the Earth once\n",
    "a day (so-called “geosynchronous” orbit), once every 90 minutes, and once every\n",
    "45 minutes. What do you conclude from the last of these calculations?\n",
    "\n",
    "\n",
    "\n"
   ]
  },
  {
   "cell_type": "code",
   "execution_count": null,
   "metadata": {},
   "outputs": [],
   "source": [
    "# Input Time (T) in minutes (min)\n",
    "\n",
    "import math\n",
    "\n",
    "G = (6.67*(10**(-11)))\n",
    "M = 5.97*(10**(24))\n",
    "R = 6371*1000\n",
    "\n",
    "T90 = 60 * int(input(\"Time in minutes: \"))\n",
    "h90 = ((G*M*(T90**(2)))/(4*(math.pi)**(2)))**(1/3) - R\n",
    "print(h90)\n",
    "\n",
    "T45 = 60 * int(input(\"Time in minutes: \"))\n",
    "h45 = ((G*M*(T45**(2)))/(4*(math.pi)**(2)))**(1/3) - R\n",
    "\n",
    "print(h45)\n",
    "\n",
    "#Conclusion: In order to calulate the altitude time has to be converted into minutes. "
   ]
  },
  {
   "cell_type": "markdown",
   "metadata": {},
   "source": [
    "Technically a geosynchronous satellite is one that orbits the Earth once persidereal\n",
    "day, which is 23.93 hours, not 24 hours. Why is this? And how much difference\n",
    "will it make to the altitude of the satellite?"
   ]
  },
  {
   "cell_type": "code",
   "execution_count": null,
   "metadata": {},
   "outputs": [],
   "source": [
    "# Input Time (T) in hours (hrs)\n",
    "\n",
    "import math\n",
    "\n",
    "G = 6.67*10**(-11)\n",
    "M = 5.97*10**(24)\n",
    "R = 6371*1000\n",
    "\n",
    "T23 = 3600 * float(input(\"Time in hours for: \"))\n",
    "h23 = ((G*M*(T23**(2)))/(4*(math.pi)**(2)))**(1/3) - R\n",
    "\n",
    "T24 = 3600 * float(input(\"Time in hours for: \"))\n",
    "h24 = ((G*M*(T24**(2)))/(4*(math.pi)**(2)))**(1/3) - R\n",
    "\n",
    "H2 = h23 - h24\n",
    "\n",
    "print(h23)\n",
    "print(h24)\n",
    "print(H2)\n",
    "\n",
    "#Why: Because a persidereal day is different than a solar day. \n",
    "#Difference:The difference in the altitude is 82,000 of meters. "
   ]
  },
  {
   "cell_type": "markdown",
   "metadata": {},
   "source": [
    "### 2) Special Relativity\n",
    "\n",
    "A spaceship travels from Earth in a straight line at a (relativistic)\n",
    "speed $v$ to another planet $x$ light years away. Write a program to ask\n",
    "the user for the value of $x$ and the speed $v$ as a fraction of the speed\n",
    "of light, then print out the time in years that the spaceship takes to\n",
    "reach its destination (a) in the rest frame of an observer on Earth\n",
    "and (b) as perceived by a passenger on board the ship.\n",
    "\n",
    "$$x' = \\gamma (x - vt)$$\n",
    "\n",
    "$$t' = \\gamma \\left(t - \\frac{v x}{c^2}\\right)$$\n",
    "\n",
    "$$\\gamma = \\frac{1}{\\sqrt{1 - \\frac{v^2}{c^2}}}$$\n"
   ]
  },
  {
   "cell_type": "code",
   "execution_count": null,
   "metadata": {},
   "outputs": [],
   "source": [
    "import math\n",
    "from math import sqrt\n",
    "\n",
    "c = 299792458\n",
    "v = c * float(input(\"The value of v, as a fraction of the speed of light,: \"))\n",
    "x = float(input(\"The value of x: \"))\n",
    "t = x/v\n",
    "\n",
    "y = ((1)/(math.sqrt((1)-((v**(2))/(c**(2))))))\n",
    "xprim = y*((x)-(v*t))\n",
    "tprim = y*((t)-((v*x)/(c**(2))))\n",
    "\n",
    "\n",
    "print(y,xprim,tprim)\n",
    "\n",
    "# (a): * Listed below in the \"out\" box.\n",
    "# (b): #not sure how to calucate the relativity of a passenger on the ship. "
   ]
  },
  {
   "cell_type": "markdown",
   "metadata": {},
   "source": [
    "#### Use your program to calculate the answers for a planet 10 light years away with $v = 0.90c$,  $v = 0.98c$, $v = 0.999c$."
   ]
  },
  {
   "cell_type": "code",
   "execution_count": null,
   "metadata": {},
   "outputs": [],
   "source": [
    "#### Input values of v\n",
    "\n",
    "import math\n",
    "from math import sqrt\n",
    "\n",
    "c = 299792458\n",
    "v = c * float(input(\"The value of v, as a fraction of the speed of light,: \"))\n",
    "x = float(input(\"The value of x: \"))\n",
    "t = x/v\n",
    "\n",
    "y = ((1)/(math.sqrt((1)-((v**(2))/(c**(2))))))\n",
    "xprim = y*((x)-(v*t))\n",
    "tprim = y*((t)-((v*x)/(c**(2))))\n",
    "\n",
    "\n",
    "print(y,xprim,tprim)"
   ]
  },
  {
   "cell_type": "code",
   "execution_count": null,
   "metadata": {},
   "outputs": [],
   "source": [
    "\n",
    "import math\n",
    "from math import sqrt\n",
    "\n",
    "c = 299792458\n",
    "v = c * float(input(\"The value of v, as a fraction of the speed of light,: \"))\n",
    "x = float(input(\"The value of x: \"))\n",
    "t = x/v\n",
    "\n",
    "y = ((1)/(math.sqrt((1)-((v**(2))/(c**(2))))))\n",
    "xprim = y*((x)-(v*t))\n",
    "tprim = y*((t)-((v*x)/(c**(2))))\n",
    "\n",
    "\n",
    "print(y,xprim,tprim)"
   ]
  },
  {
   "cell_type": "code",
   "execution_count": null,
   "metadata": {},
   "outputs": [],
   "source": [
    "\n",
    "import math\n",
    "from math import sqrt\n",
    "\n",
    "c = 299792458\n",
    "v = c * float(input(\"The value of v, as a fraction of the speed of light,: \"))\n",
    "x = float(input(\"The value of x: \"))\n",
    "t = x/v\n",
    "\n",
    "y = ((1)/(math.sqrt((1)-((v**(2))/(c**(2))))))\n",
    "xprim = y*((x)-(v*t))\n",
    "tprim = y*((t)-((v*x)/(c**(2))))\n",
    "\n",
    "\n",
    "print(y,xprim,tprim)"
   ]
  },
  {
   "cell_type": "code",
   "execution_count": null,
   "metadata": {},
   "outputs": [],
   "source": [
    "\n",
    "import math\n",
    "from math import sqrt\n",
    "\n",
    "c = 299792458\n",
    "v = c * float(input(\"The value of v, as a fraction of the speed of light,: \"))\n",
    "x = float(input(\"The value of x: \"))\n",
    "t = x/v\n",
    "\n",
    "y = ((1)/(math.sqrt((1)-((v**(2))/(c**(2))))))\n",
    "xprim = y*((x)-(v*t))\n",
    "tprim = y*((t)-((v*x)/(c**(2))))\n",
    "\n",
    "\n",
    "print(y,xprim,tprim)"
   ]
  },
  {
   "cell_type": "markdown",
   "metadata": {},
   "source": [
    "### 3) The quadratic equation\n",
    "\n",
    " Write a program that takes as input three numbers, $a$, $b$, and $c$, and prints out the two solutions to the quadratic equation $ax^2 + bx + c = 0$ using the standard\n",
    "formula:\n",
    "\n",
    "$$x = \\frac{-b \\pm \\sqrt{b^2 - 4ac}}{2a}$$\n",
    "\n",
    "Use your program to compute the solutions of $0.001x^2 + 1000x + 0.001 = 0$."
   ]
  },
  {
   "cell_type": "code",
   "execution_count": null,
   "metadata": {},
   "outputs": [],
   "source": [
    "import math\n",
    "from math import sqrt\n",
    "\n",
    "a = float(input(\"The value of a: \"))\n",
    "b = float(input(\"The value of b: \"))\n",
    "c = float(input(\"The value of c: \"))\n",
    "xp = (((-b) + (math.sqrt((b**(2)) - (4*a*c))))/(2*a))\n",
    "xm = (((-b) - (math.sqrt((b**(2)) - (4*a*c))))/(2*a))\n",
    "x = xp, xm\n",
    "\n",
    "print(x)"
   ]
  },
  {
   "cell_type": "markdown",
   "metadata": {},
   "source": [
    "There is another way to write the solutions to a quadratic equation. Multiplying top and bottom of the solution above by $-b \\mp \\sqrt{b^2 - 4ac}$, show that the solutions\n",
    "can also be written as:\n",
    "\n",
    "$$x = \\frac{2c}{-b \\mp \\sqrt{b^2 - 4ac}}$$\n",
    "\n",
    "Add further lines to your program to print these values in addition to the earlier ones and again use the program to solve $0.001x^2 + 1000x + 0.001 = 0$. What do you see? How do you explain it?"
   ]
  },
  {
   "cell_type": "code",
   "execution_count": null,
   "metadata": {},
   "outputs": [],
   "source": [
    "import math\n",
    "from math import sqrt \n",
    "\n",
    "a = float(input(\"Value of A: \"))\n",
    "b = float(input(\"Value of B: \"))\n",
    "c = float(input(\"Value of C: \"))\n",
    "\n",
    "x2p = ((2*c)/((-b) + math.sqrt(((b)**(2)) - (4*a*c))))\n",
    "x2m = ((2*c)/((-b) - math.sqrt(((b)**(2)) - (4*a*c))))\n",
    "\n",
    "x2 = x2m, x2p\n",
    "print(x2)\n",
    "\n",
    "#What I see and how explain: ..."
   ]
  },
  {
   "cell_type": "markdown",
   "metadata": {},
   "source": [
    "Using what you have learned, write a new program that calculates both roots of a quadratic equation accurately in all cases."
   ]
  },
  {
   "cell_type": "code",
   "execution_count": null,
   "metadata": {},
   "outputs": [],
   "source": [
    "# which equations close to zero and negative 1 million "
   ]
  },
  {
   "cell_type": "code",
   "execution_count": null,
   "metadata": {},
   "outputs": [],
   "source": [
    "def quadchec():\n",
    "    a = float(input(\"The value of a: \"))\n",
    "    b = float(input(\"The value of b: \"))\n",
    "    c = float(input(\"The value of c: \"))\n",
    "    xp = (((-b) + (math.sqrt((b**(2)) - (4*a*c))))/(2*a))\n",
    "    xm = (((-b) - (math.sqrt((b**(2)) - (4*a*c))))/(2*a))\n",
    "    x2p = ((2*c)/((-b) + math.sqrt(((b)**(2)) - (4*a*c))))\n",
    "    x2m = ((2*c)/((-b) - math.sqrt(((b)**(2)) - (4*a*c))))\n",
    "    c1 = math.fabs(xp-xm)\n",
    "    c2 = math.fabs(x2m-x2p)\n",
    "    c3 = math.fabs(xp-x2p)\n",
    "    c4 = math.fabs(xm-x2p)\n",
    "    c5 = math.fabs(xp-x2m)\n",
    "    c6 = math.fabs(x2m-xm)\n",
    "    if ((c1<c2) and (c1<3) and (c1<c4) and (c1<c5) and (c1<c6)):\n",
    "        return (xp, xm)\n",
    "    elif((c2<c3) and (c2<c4) and (c2<c5) and (c2<c6)):\n",
    "        return (x2p, x2m)\n",
    "    elif((c3<c4) and (c3<c5) and (c3<c6)):\n",
    "        return (xp, x2p)\n",
    "    elif((c4<c5) and (c4<c6)):\n",
    "        return (xm, x2p)\n",
    "    elif((c5<c6)):\n",
    "        return: (xp, x2m)\n",
    "    else\n",
    "        return(xm-x2m)\n",
    "quadchech()"
   ]
  }
 ],
 "metadata": {
  "kernelspec": {
   "display_name": "Python 3 (ipykernel)",
   "language": "python",
   "name": "python3"
  },
  "language_info": {
   "codemirror_mode": {
    "name": "ipython",
    "version": 3
   },
   "file_extension": ".py",
   "mimetype": "text/x-python",
   "name": "python",
   "nbconvert_exporter": "python",
   "pygments_lexer": "ipython3",
   "version": "3.9.12"
  }
 },
 "nbformat": 4,
 "nbformat_minor": 4
}
